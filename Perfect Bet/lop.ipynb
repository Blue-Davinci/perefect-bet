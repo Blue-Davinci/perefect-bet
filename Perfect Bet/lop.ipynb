{
 "cells": [
  {
   "cell_type": "code",
   "execution_count": 1,
   "metadata": {
    "collapsed": true
   },
   "outputs": [
    {
     "name": "stdout",
     "output_type": "stream",
     "text": [
      "hallopreae\n"
     ]
    }
   ],
   "source": [
    "print(\"hallo\"\n",
    "      \"preae\")"
   ]
  },
  {
   "cell_type": "code",
   "execution_count": 7,
   "metadata": {},
   "outputs": [
    {
     "data": {
      "text/plain": [
       "26741.26513362856"
      ]
     },
     "execution_count": 7,
     "metadata": {},
     "output_type": "execute_result"
    }
   ],
   "source": [
    "import numpy as np\n",
    "data = np.random.normal(27000,15000,10000)\n",
    "np.mean(data)"
   ]
  },
  {
   "cell_type": "code",
   "execution_count": 8,
   "metadata": {},
   "outputs": [
    {
     "data": {
      "image/png": "[encoded data removed]",
      "text/plain": [
       "<matplotlib.figure.Figure at 0x1f46c531b70>"
      ]
     },
     "metadata": {},
     "output_type": "display_data"
    }
   ],
   "source": [
    "import matplotlib.pyplot as plt\n",
    "plt.hist(data,50)\n",
    "plt.show()"
   ]
  },
  {
   "cell_type": "code",
   "execution_count": 10,
   "metadata": {},
   "outputs": [
    {
     "name": "stdout",
     "output_type": "stream",
     "text": [
      "26852.4565319\n"
     ]
    }
   ],
   "source": [
    "print(np.median(data))"
   ]
  },
  {
   "cell_type": "code",
   "execution_count": 13,
   "metadata": {},
   "outputs": [],
   "source": [
    "income = np.random.randint(18,90,500)"
   ]
  },
  {
   "cell_type": "code",
   "execution_count": 14,
   "metadata": {},
   "outputs": [
    {
     "name": "stdout",
     "output_type": "stream",
     "text": [
      "[69 56 72 64 83 71 83 44 26 40 88 53 64 27 84 88 57 22 30 58 34 83 76 35 60\n 23 45 46 27 65 81 35 37 22 22 31 89 87 77 43 78 47 87 42 48 88 23 56 59 55\n 29 38 66 67 31 25 18 56 53 63 64 74 72 79 46 53 34 52 29 40 48 41 43 58 84\n 33 35 79 58 19 82 80 70 21 62 73 58 30 75 54 36 58 62 25 54 38 43 22 41 48\n 81 50 36 52 75 62 39 61 34 46 60 21 82 63 45 35 52 33 36 19 30 66 88 62 29\n 73 88 44 80 62 26 20 61 81 69 23 84 27 67 18 73 58 75 64 55 55 28 69 57 83\n 24 35 34 37 85 84 73 72 77 57 85 52 76 36 60 82 28 30 67 46 64 29 21 23 25\n 87 23 36 51 22 24 19 84 56 70 50 49 67 46 38 54 27 53 39 73 60 58 57 33 36\n 53 55 83 74 40 85 68 25 38 41 44 29 31 19 32 71 57 57 48 35 44 22 31 26 51\n 60 50 77 59 31 49 21 80 65 82 42 75 31 31 34 68 82 54 72 36 71 20 24 60 88\n 20 37 56 33 23 34 53 55 35 87 59 47 24 78 85 60 71 26 34 59 76 74 35 41 53\n 66 67 67 69 63 78 82 77 88 75 44 66 37 67 31 82 59 23 51 33 73 38 33 85 88\n 66 76 48 77 72 68 38 75 89 36 53 78 49 58 18 38 81 34 23 66 81 80 30 80 36\n 32 27 34 41 71 73 84 61 78 33 60 88 81 89 30 46 30 45 78 54 37 66 70 26 26\n 31 89 44 31 58 36 78 52 40 65 48 76 41 76 39 55 66 39 58 65 78 88 20 71 45\n 70 62 86 77 22 19 86 72 30 30 75 18 71 39 32 71 72 72 32 80 19 68 50 77 73\n 71 35 51 26 74 33 65 59 73 46 64 35 72 55 81 33 27 19 49 41 18 35 65 54 56\n 69 66 75 35 45 70 65 20 50 53 50 39 68 80 23 36 66 84 36 45 51 86 59 56 30\n 65 71 38 64 51 56 19 40 39 64 38 22 82 50 59 76 79 32 81 67 87 38 58 21 65\n 89 25 30 28 30 47 40 73 77 45 18 80 56 69 58 89 29 71 60 51 73 28 39 43 20]\n"
     ]
    }
   ],
   "source": [
    "print(income)"
   ]
  },
  {
   "cell_type": "code",
   "execution_count": 15,
   "metadata": {},
   "outputs": [
    {
     "data": {
      "text/plain": [
       "53.308"
      ]
     },
     "execution_count": 15,
     "metadata": {},
     "output_type": "execute_result"
    }
   ],
   "source": [
    "np.mean(income)"
   ]
  },
  {
   "cell_type": "code",
   "execution_count": 18,
   "metadata": {},
   "outputs": [
    {
     "data": {
      "text/plain": [
       "54.0"
      ]
     },
     "execution_count": 18,
     "metadata": {},
     "output_type": "execute_result"
    }
   ],
   "source": [
    "np.median(income)"
   ]
  },
  {
   "cell_type": "code",
   "execution_count": 21,
   "metadata": {},
   "outputs": [
    {
     "data": {
      "text/plain": [
       "array([ 69,  56,  72,  64,  83,  71,  83,  44,  26,  40,  88,  53,  64,\n        27,  84,  88,  57,  22,  30,  58,  34,  83,  76,  35,  60,  23,\n        45,  46,  27,  65,  81,  35,  37,  22,  22,  31,  89,  87,  77,\n        43,  78,  47,  87,  42,  48,  88,  23,  56,  59,  55,  29,  38,\n        66,  67,  31,  25,  18,  56,  53,  63,  64,  74,  72,  79,  46,\n        53,  34,  52,  29,  40,  48,  41,  43,  58,  84,  33,  35,  79,\n        58,  19,  82,  80,  70,  21,  62,  73,  58,  30,  75,  54,  36,\n        58,  62,  25,  54,  38,  43,  22,  41,  48,  81,  50,  36,  52,\n        75,  62,  39,  61,  34,  46,  60,  21,  82,  63,  45,  35,  52,\n        33,  36,  19,  30,  66,  88,  62,  29,  73,  88,  44,  80,  62,\n        26,  20,  61,  81,  69,  23,  84,  27,  67,  18,  73,  58,  75,\n        64,  55,  55,  28,  69,  57,  83,  24,  35,  34,  37,  85,  84,\n        73,  72,  77,  57,  85,  52,  76,  36,  60,  82,  28,  30,  67,\n        46,  64,  29,  21,  23,  25,  87,  23,  36,  51,  22,  24,  19,\n        84,  56,  70,  50,  49,  67,  46,  38,  54,  27,  53,  39,  73,\n        60,  58,  57,  33,  36,  53,  55,  83,  74,  40,  85,  68,  25,\n        38,  41,  44,  29,  31,  19,  32,  71,  57,  57,  48,  35,  44,\n        22,  31,  26,  51,  60,  50,  77,  59,  31,  49,  21,  80,  65,\n        82,  42,  75,  31,  31,  34,  68,  82,  54,  72,  36,  71,  20,\n        24,  60,  88,  20,  37,  56,  33,  23,  34,  53,  55,  35,  87,\n        59,  47,  24,  78,  85,  60,  71,  26,  34,  59,  76,  74,  35,\n        41,  53,  66,  67,  67,  69,  63,  78,  82,  77,  88,  75,  44,\n        66,  37,  67,  31,  82,  59,  23,  51,  33,  73,  38,  33,  85,\n        88,  66,  76,  48,  77,  72,  68,  38,  75,  89,  36,  53,  78,\n        49,  58,  18,  38,  81,  34,  23,  66,  81,  80,  30,  80,  36,\n        32,  27,  34,  41,  71,  73,  84,  61,  78,  33,  60,  88,  81,\n        89,  30,  46,  30,  45,  78,  54,  37,  66,  70,  26,  26,  31,\n        89,  44,  31,  58,  36,  78,  52,  40,  65,  48,  76,  41,  76,\n        39,  55,  66,  39,  58,  65,  78,  88,  20,  71,  45,  70,  62,\n        86,  77,  22,  19,  86,  72,  30,  30,  75,  18,  71,  39,  32,\n        71,  72,  72,  32,  80,  19,  68,  50,  77,  73,  71,  35,  51,\n        26,  74,  33,  65,  59,  73,  46,  64,  35,  72,  55,  81,  33,\n        27,  19,  49,  41,  18,  35,  65,  54,  56,  69,  66,  75,  35,\n        45,  70,  65,  20,  50,  53,  50,  39,  68,  80,  23,  36,  66,\n        84,  36,  45,  51,  86,  59,  56,  30,  65,  71,  38,  64,  51,\n        56,  19,  40,  39,  64,  38,  22,  82,  50,  59,  76,  79,  32,\n        81,  67,  87,  38,  58,  21,  65,  89,  25,  30,  28,  30,  47,\n        40,  73,  77,  45,  18,  80,  56,  69,  58,  89,  29,  71,  60,\n        51,  73,  28,  39,  43,  20, 120])"
      ]
     },
     "execution_count": 21,
     "metadata": {},
     "output_type": "execute_result"
    }
   ],
   "source": [
    "np.append(income,[120])"
   ]
  },
  {
   "cell_type": "code",
   "execution_count": 22,
   "metadata": {},
   "outputs": [
    {
     "data": {
      "text/plain": [
       "54.0"
      ]
     },
     "execution_count": 22,
     "metadata": {},
     "output_type": "execute_result"
    }
   ],
   "source": [
    "np.median(income)"
   ]
  },
  {
   "cell_type": "code",
   "execution_count": 23,
   "metadata": {},
   "outputs": [
    {
     "data": {
      "text/plain": [
       "53.308"
      ]
     },
     "execution_count": 23,
     "metadata": {},
     "output_type": "execute_result"
    }
   ],
   "source": [
    "np.mean(income)"
   ]
  },
  {
   "cell_type": "code",
   "execution_count": 24,
   "metadata": {},
   "outputs": [
    {
     "ename": "ImportError",
     "evalue": "cannot import name 'NUMPY_MKL'",
     "traceback": [
      "\u001b[1;31m---------------------------------------------------------------------------\u001b[0m",
      "\u001b[1;31mImportError\u001b[0m                               Traceback (most recent call last)",
      "\u001b[1;32m<ipython-input-24-40990990227f>\u001b[0m in \u001b[0;36m<module>\u001b[1;34m()\u001b[0m\n\u001b[1;32m----> 1\u001b[1;33m \u001b[1;32mfrom\u001b[0m \u001b[0mscipy\u001b[0m \u001b[1;32mimport\u001b[0m \u001b[0mstats\u001b[0m\u001b[1;33m\u001b[0m\u001b[0m\n\u001b[0m\u001b[0;32m      2\u001b[0m \u001b[0mstats\u001b[0m\u001b[1;33m.\u001b[0m\u001b[0mmode\u001b[0m\u001b[1;33m(\u001b[0m\u001b[0mincome\u001b[0m\u001b[1;33m)\u001b[0m\u001b[1;33m\u001b[0m\u001b[0m\n",
      "\u001b[1;32mc:\\users\\blue_davinci\\appdata\\local\\programs\\python\\python36\\lib\\site-packages\\scipy\\__init__.py\u001b[0m in \u001b[0;36m<module>\u001b[1;34m()\u001b[0m\n\u001b[0;32m     59\u001b[0m \u001b[0m__all__\u001b[0m \u001b[1;33m=\u001b[0m \u001b[1;33m[\u001b[0m\u001b[1;34m'test'\u001b[0m\u001b[1;33m]\u001b[0m\u001b[1;33m\u001b[0m\u001b[0m\n\u001b[0;32m     60\u001b[0m \u001b[1;33m\u001b[0m\u001b[0m\n\u001b[1;32m---> 61\u001b[1;33m \u001b[1;32mfrom\u001b[0m \u001b[0mnumpy\u001b[0m\u001b[1;33m.\u001b[0m\u001b[0m_distributor_init\u001b[0m \u001b[1;32mimport\u001b[0m \u001b[0mNUMPY_MKL\u001b[0m  \u001b[1;31m# requires numpy+mkl\u001b[0m\u001b[1;33m\u001b[0m\u001b[0m\n\u001b[0m\u001b[0;32m     62\u001b[0m \u001b[1;33m\u001b[0m\u001b[0m\n\u001b[0;32m     63\u001b[0m \u001b[1;32mfrom\u001b[0m \u001b[0mnumpy\u001b[0m \u001b[1;32mimport\u001b[0m \u001b[0mshow_config\u001b[0m \u001b[1;32mas\u001b[0m \u001b[0mshow_numpy_config\u001b[0m\u001b[1;33m\u001b[0m\u001b[0m\n",
      "\u001b[1;31mImportError\u001b[0m: cannot import name 'NUMPY_MKL'"
     ],
     "output_type": "error"
    }
   ],
   "source": [
    "from scipy import stats\n",
    "stats.mode(income)"
   ]
  },
  {
   "cell_type": "code",
   "execution_count": 28,
   "metadata": {},
   "outputs": [
    {
     "data": {
      "image/png": "[encoded data removed]",
      "text/plain": [
       "<matplotlib.figure.Figure at 0x1f46c702f98>"
      ]
     },
     "metadata": {},
     "output_type": "display_data"
    }
   ],
   "source": [
    "import numpy as np\n",
    "import matplotlib.pyplot as pt\n",
    "income = np.random.normal(100,50,10000)\n",
    "pt.hist(income,50)\n",
    "pt.show()"
   ]
  },
  {
   "cell_type": "code",
   "execution_count": 29,
   "metadata": {},
   "outputs": [
    {
     "data": {
      "text/plain": [
       "50.846178467348842"
      ]
     },
     "execution_count": 29,
     "metadata": {},
     "output_type": "execute_result"
    }
   ],
   "source": [
    "income.std()"
   ]
  },
  {
   "cell_type": "code",
   "execution_count": 30,
   "metadata": {},
   "outputs": [
    {
     "data": {
      "text/plain": [
       "2585.333864733489"
      ]
     },
     "execution_count": 30,
     "metadata": {},
     "output_type": "execute_result"
    }
   ],
   "source": [
    "income.var()"
   ]
  },
  {
   "cell_type": "code",
   "execution_count": null,
   "metadata": {},
   "outputs": [],
   "source": []
  }
 ],
 "metadata": {
  "kernelspec": {
   "display_name": "Python 2",
   "language": "python",
   "name": "python2"
  },
  "language_info": {
   "codemirror_mode": {
    "name": "ipython",
    "version": 2
   },
   "file_extension": ".py",
   "mimetype": "text/x-python",
   "name": "python",
   "nbconvert_exporter": "python",
   "pygments_lexer": "ipython2",
   "version": "2.7.6"
  }
 },
 "nbformat": 4,
 "nbformat_minor": 0
}
